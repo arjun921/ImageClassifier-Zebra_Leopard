{
 "cells": [
  {
   "cell_type": "code",
   "execution_count": 1,
   "metadata": {
    "collapsed": false
   },
   "outputs": [
    {
     "name": "stderr",
     "output_type": "stream",
     "text": [
      "Using TensorFlow backend.\n"
     ]
    }
   ],
   "source": [
    "import os\n",
    "import numpy as np\n",
    "#For Image pre-Processing, processing and building model\n",
    "from keras.models import Sequential\n",
    "from keras.layers import Activation,Dropout,Flatten,Dense\n",
    "from keras.preprocessing.image import ImageDataGenerator\n",
    "from keras.preprocessing import image\n",
    "from keras.layers import Convolution2D,MaxPooling2D,ZeroPadding2D\n",
    "from keras import optimizers\n",
    "#for Plotting Model\n",
    "from IPython.display import SVG\n",
    "from keras.utils.visualize_util import model_to_dot"
   ]
  },
  {
   "cell_type": "code",
   "execution_count": 2,
   "metadata": {
    "collapsed": false
   },
   "outputs": [
    {
     "name": "stdout",
     "output_type": "stream",
     "text": [
      "Found 24 images belonging to 2 classes.\n"
     ]
    }
   ],
   "source": [
    "img_width, img_height = 384,256\n",
    "#rescaling pixel values from [0,255] to [0,1] interval\n",
    "datagen = ImageDataGenerator(rescale = 1./255)\n",
    "#retrieves images and their classes for test sets\n",
    "validation_data_dir = 'data/test/new'\n",
    "validation_generator = datagen.flow_from_directory(\n",
    "    validation_data_dir,\n",
    "    target_size=(img_width,img_height),\n",
    "    batch_size=32,\n",
    "    class_mode='binary')"
   ]
  },
  {
   "cell_type": "markdown",
   "metadata": {},
   "source": [
    "# The following Cell Defines the Stucture of Convolutinal Network"
   ]
  },
  {
   "cell_type": "code",
   "execution_count": 3,
   "metadata": {
    "collapsed": false
   },
   "outputs": [
    {
     "data": {
      "image/svg+xml": [
       "<svg height=\"1140pt\" viewBox=\"0.00 0.00 224.25 1140.00\" width=\"224pt\" xmlns=\"http://www.w3.org/2000/svg\" xmlns:xlink=\"http://www.w3.org/1999/xlink\">\n",
       "<g class=\"graph\" id=\"graph0\" transform=\"scale(1 1) rotate(0) translate(4 1136)\">\n",
       "<title>G</title>\n",
       "<polygon fill=\"white\" points=\"-4,4 -4,-1136 220.245,-1136 220.245,4 -4,4\" stroke=\"none\"/>\n",
       "<!-- 4656234896 -->\n",
       "<g class=\"node\" id=\"node1\"><title>4656234896</title>\n",
       "<polygon fill=\"none\" points=\"0,-1095.5 0,-1131.5 216.245,-1131.5 216.245,-1095.5 0,-1095.5\" stroke=\"black\"/>\n",
       "<text font-family=\"Times,serif\" font-size=\"14.00\" text-anchor=\"middle\" x=\"108.123\" y=\"-1109.3\">convolution2d_input_1: InputLayer</text>\n",
       "</g>\n",
       "<!-- 4656316368 -->\n",
       "<g class=\"node\" id=\"node2\"><title>4656316368</title>\n",
       "<polygon fill=\"none\" points=\"5.42773,-1022.5 5.42773,-1058.5 210.817,-1058.5 210.817,-1022.5 5.42773,-1022.5\" stroke=\"black\"/>\n",
       "<text font-family=\"Times,serif\" font-size=\"14.00\" text-anchor=\"middle\" x=\"108.123\" y=\"-1036.3\">convolution2d_1: Convolution2D</text>\n",
       "</g>\n",
       "<!-- 4656234896&#45;&gt;4656316368 -->\n",
       "<g class=\"edge\" id=\"edge1\"><title>4656234896-&gt;4656316368</title>\n",
       "<path d=\"M108.123,-1095.31C108.123,-1087.29 108.123,-1077.55 108.123,-1068.57\" fill=\"none\" stroke=\"black\"/>\n",
       "<polygon fill=\"black\" points=\"111.623,-1068.53 108.123,-1058.53 104.623,-1068.53 111.623,-1068.53\" stroke=\"black\"/>\n",
       "</g>\n",
       "<!-- 4656406032 -->\n",
       "<g class=\"node\" id=\"node3\"><title>4656406032</title>\n",
       "<polygon fill=\"none\" points=\"32.6621,-949.5 32.6621,-985.5 183.583,-985.5 183.583,-949.5 32.6621,-949.5\" stroke=\"black\"/>\n",
       "<text font-family=\"Times,serif\" font-size=\"14.00\" text-anchor=\"middle\" x=\"108.123\" y=\"-963.3\">activation_1: Activation</text>\n",
       "</g>\n",
       "<!-- 4656316368&#45;&gt;4656406032 -->\n",
       "<g class=\"edge\" id=\"edge2\"><title>4656316368-&gt;4656406032</title>\n",
       "<path d=\"M108.123,-1022.31C108.123,-1014.29 108.123,-1004.55 108.123,-995.569\" fill=\"none\" stroke=\"black\"/>\n",
       "<polygon fill=\"black\" points=\"111.623,-995.529 108.123,-985.529 104.623,-995.529 111.623,-995.529\" stroke=\"black\"/>\n",
       "</g>\n",
       "<!-- 4656234640 -->\n",
       "<g class=\"node\" id=\"node4\"><title>4656234640</title>\n",
       "<polygon fill=\"none\" points=\"5.81738,-876.5 5.81738,-912.5 210.428,-912.5 210.428,-876.5 5.81738,-876.5\" stroke=\"black\"/>\n",
       "<text font-family=\"Times,serif\" font-size=\"14.00\" text-anchor=\"middle\" x=\"108.123\" y=\"-890.3\">maxpooling2d_1: MaxPooling2D</text>\n",
       "</g>\n",
       "<!-- 4656406032&#45;&gt;4656234640 -->\n",
       "<g class=\"edge\" id=\"edge3\"><title>4656406032-&gt;4656234640</title>\n",
       "<path d=\"M108.123,-949.313C108.123,-941.289 108.123,-931.547 108.123,-922.569\" fill=\"none\" stroke=\"black\"/>\n",
       "<polygon fill=\"black\" points=\"111.623,-922.529 108.123,-912.529 104.623,-922.529 111.623,-922.529\" stroke=\"black\"/>\n",
       "</g>\n",
       "<!-- 4656501712 -->\n",
       "<g class=\"node\" id=\"node5\"><title>4656501712</title>\n",
       "<polygon fill=\"none\" points=\"5.42773,-803.5 5.42773,-839.5 210.817,-839.5 210.817,-803.5 5.42773,-803.5\" stroke=\"black\"/>\n",
       "<text font-family=\"Times,serif\" font-size=\"14.00\" text-anchor=\"middle\" x=\"108.123\" y=\"-817.3\">convolution2d_2: Convolution2D</text>\n",
       "</g>\n",
       "<!-- 4656234640&#45;&gt;4656501712 -->\n",
       "<g class=\"edge\" id=\"edge4\"><title>4656234640-&gt;4656501712</title>\n",
       "<path d=\"M108.123,-876.313C108.123,-868.289 108.123,-858.547 108.123,-849.569\" fill=\"none\" stroke=\"black\"/>\n",
       "<polygon fill=\"black\" points=\"111.623,-849.529 108.123,-839.529 104.623,-849.529 111.623,-849.529\" stroke=\"black\"/>\n",
       "</g>\n",
       "<!-- 4656235856 -->\n",
       "<g class=\"node\" id=\"node6\"><title>4656235856</title>\n",
       "<polygon fill=\"none\" points=\"32.6621,-730.5 32.6621,-766.5 183.583,-766.5 183.583,-730.5 32.6621,-730.5\" stroke=\"black\"/>\n",
       "<text font-family=\"Times,serif\" font-size=\"14.00\" text-anchor=\"middle\" x=\"108.123\" y=\"-744.3\">activation_2: Activation</text>\n",
       "</g>\n",
       "<!-- 4656501712&#45;&gt;4656235856 -->\n",
       "<g class=\"edge\" id=\"edge5\"><title>4656501712-&gt;4656235856</title>\n",
       "<path d=\"M108.123,-803.313C108.123,-795.289 108.123,-785.547 108.123,-776.569\" fill=\"none\" stroke=\"black\"/>\n",
       "<polygon fill=\"black\" points=\"111.623,-776.529 108.123,-766.529 104.623,-776.529 111.623,-776.529\" stroke=\"black\"/>\n",
       "</g>\n",
       "<!-- 4656614544 -->\n",
       "<g class=\"node\" id=\"node7\"><title>4656614544</title>\n",
       "<polygon fill=\"none\" points=\"5.81738,-657.5 5.81738,-693.5 210.428,-693.5 210.428,-657.5 5.81738,-657.5\" stroke=\"black\"/>\n",
       "<text font-family=\"Times,serif\" font-size=\"14.00\" text-anchor=\"middle\" x=\"108.123\" y=\"-671.3\">maxpooling2d_2: MaxPooling2D</text>\n",
       "</g>\n",
       "<!-- 4656235856&#45;&gt;4656614544 -->\n",
       "<g class=\"edge\" id=\"edge6\"><title>4656235856-&gt;4656614544</title>\n",
       "<path d=\"M108.123,-730.313C108.123,-722.289 108.123,-712.547 108.123,-703.569\" fill=\"none\" stroke=\"black\"/>\n",
       "<polygon fill=\"black\" points=\"111.623,-703.529 108.123,-693.529 104.623,-703.529 111.623,-703.529\" stroke=\"black\"/>\n",
       "</g>\n",
       "<!-- 4656737296 -->\n",
       "<g class=\"node\" id=\"node8\"><title>4656737296</title>\n",
       "<polygon fill=\"none\" points=\"5.42773,-584.5 5.42773,-620.5 210.817,-620.5 210.817,-584.5 5.42773,-584.5\" stroke=\"black\"/>\n",
       "<text font-family=\"Times,serif\" font-size=\"14.00\" text-anchor=\"middle\" x=\"108.123\" y=\"-598.3\">convolution2d_3: Convolution2D</text>\n",
       "</g>\n",
       "<!-- 4656614544&#45;&gt;4656737296 -->\n",
       "<g class=\"edge\" id=\"edge7\"><title>4656614544-&gt;4656737296</title>\n",
       "<path d=\"M108.123,-657.313C108.123,-649.289 108.123,-639.547 108.123,-630.569\" fill=\"none\" stroke=\"black\"/>\n",
       "<polygon fill=\"black\" points=\"111.623,-630.529 108.123,-620.529 104.623,-630.529 111.623,-630.529\" stroke=\"black\"/>\n",
       "</g>\n",
       "<!-- 4656677712 -->\n",
       "<g class=\"node\" id=\"node9\"><title>4656677712</title>\n",
       "<polygon fill=\"none\" points=\"32.6621,-511.5 32.6621,-547.5 183.583,-547.5 183.583,-511.5 32.6621,-511.5\" stroke=\"black\"/>\n",
       "<text font-family=\"Times,serif\" font-size=\"14.00\" text-anchor=\"middle\" x=\"108.123\" y=\"-525.3\">activation_3: Activation</text>\n",
       "</g>\n",
       "<!-- 4656737296&#45;&gt;4656677712 -->\n",
       "<g class=\"edge\" id=\"edge8\"><title>4656737296-&gt;4656677712</title>\n",
       "<path d=\"M108.123,-584.313C108.123,-576.289 108.123,-566.547 108.123,-557.569\" fill=\"none\" stroke=\"black\"/>\n",
       "<polygon fill=\"black\" points=\"111.623,-557.529 108.123,-547.529 104.623,-557.529 111.623,-557.529\" stroke=\"black\"/>\n",
       "</g>\n",
       "<!-- 4656910160 -->\n",
       "<g class=\"node\" id=\"node10\"><title>4656910160</title>\n",
       "<polygon fill=\"none\" points=\"5.81738,-438.5 5.81738,-474.5 210.428,-474.5 210.428,-438.5 5.81738,-438.5\" stroke=\"black\"/>\n",
       "<text font-family=\"Times,serif\" font-size=\"14.00\" text-anchor=\"middle\" x=\"108.123\" y=\"-452.3\">maxpooling2d_3: MaxPooling2D</text>\n",
       "</g>\n",
       "<!-- 4656677712&#45;&gt;4656910160 -->\n",
       "<g class=\"edge\" id=\"edge9\"><title>4656677712-&gt;4656910160</title>\n",
       "<path d=\"M108.123,-511.313C108.123,-503.289 108.123,-493.547 108.123,-484.569\" fill=\"none\" stroke=\"black\"/>\n",
       "<polygon fill=\"black\" points=\"111.623,-484.529 108.123,-474.529 104.623,-484.529 111.623,-484.529\" stroke=\"black\"/>\n",
       "</g>\n",
       "<!-- 4656796240 -->\n",
       "<g class=\"node\" id=\"node11\"><title>4656796240</title>\n",
       "<polygon fill=\"none\" points=\"52.4897,-365.5 52.4897,-401.5 163.755,-401.5 163.755,-365.5 52.4897,-365.5\" stroke=\"black\"/>\n",
       "<text font-family=\"Times,serif\" font-size=\"14.00\" text-anchor=\"middle\" x=\"108.123\" y=\"-379.3\">flatten_1: Flatten</text>\n",
       "</g>\n",
       "<!-- 4656910160&#45;&gt;4656796240 -->\n",
       "<g class=\"edge\" id=\"edge10\"><title>4656910160-&gt;4656796240</title>\n",
       "<path d=\"M108.123,-438.313C108.123,-430.289 108.123,-420.547 108.123,-411.569\" fill=\"none\" stroke=\"black\"/>\n",
       "<polygon fill=\"black\" points=\"111.623,-411.529 108.123,-401.529 104.623,-411.529 111.623,-411.529\" stroke=\"black\"/>\n",
       "</g>\n",
       "<!-- 4657089360 -->\n",
       "<g class=\"node\" id=\"node12\"><title>4657089360</title>\n",
       "<polygon fill=\"none\" points=\"55.9966,-292.5 55.9966,-328.5 160.249,-328.5 160.249,-292.5 55.9966,-292.5\" stroke=\"black\"/>\n",
       "<text font-family=\"Times,serif\" font-size=\"14.00\" text-anchor=\"middle\" x=\"108.123\" y=\"-306.3\">dense_1: Dense</text>\n",
       "</g>\n",
       "<!-- 4656796240&#45;&gt;4657089360 -->\n",
       "<g class=\"edge\" id=\"edge11\"><title>4656796240-&gt;4657089360</title>\n",
       "<path d=\"M108.123,-365.313C108.123,-357.289 108.123,-347.547 108.123,-338.569\" fill=\"none\" stroke=\"black\"/>\n",
       "<polygon fill=\"black\" points=\"111.623,-338.529 108.123,-328.529 104.623,-338.529 111.623,-338.529\" stroke=\"black\"/>\n",
       "</g>\n",
       "<!-- 4657024976 -->\n",
       "<g class=\"node\" id=\"node13\"><title>4657024976</title>\n",
       "<polygon fill=\"none\" points=\"32.6621,-219.5 32.6621,-255.5 183.583,-255.5 183.583,-219.5 32.6621,-219.5\" stroke=\"black\"/>\n",
       "<text font-family=\"Times,serif\" font-size=\"14.00\" text-anchor=\"middle\" x=\"108.123\" y=\"-233.3\">activation_4: Activation</text>\n",
       "</g>\n",
       "<!-- 4657089360&#45;&gt;4657024976 -->\n",
       "<g class=\"edge\" id=\"edge12\"><title>4657089360-&gt;4657024976</title>\n",
       "<path d=\"M108.123,-292.313C108.123,-284.289 108.123,-274.547 108.123,-265.569\" fill=\"none\" stroke=\"black\"/>\n",
       "<polygon fill=\"black\" points=\"111.623,-265.529 108.123,-255.529 104.623,-265.529 111.623,-265.529\" stroke=\"black\"/>\n",
       "</g>\n",
       "<!-- 4657461648 -->\n",
       "<g class=\"node\" id=\"node14\"><title>4657461648</title>\n",
       "<polygon fill=\"none\" points=\"44.3208,-146.5 44.3208,-182.5 171.924,-182.5 171.924,-146.5 44.3208,-146.5\" stroke=\"black\"/>\n",
       "<text font-family=\"Times,serif\" font-size=\"14.00\" text-anchor=\"middle\" x=\"108.123\" y=\"-160.3\">dropout_1: Dropout</text>\n",
       "</g>\n",
       "<!-- 4657024976&#45;&gt;4657461648 -->\n",
       "<g class=\"edge\" id=\"edge13\"><title>4657024976-&gt;4657461648</title>\n",
       "<path d=\"M108.123,-219.313C108.123,-211.289 108.123,-201.547 108.123,-192.569\" fill=\"none\" stroke=\"black\"/>\n",
       "<polygon fill=\"black\" points=\"111.623,-192.529 108.123,-182.529 104.623,-192.529 111.623,-192.529\" stroke=\"black\"/>\n",
       "</g>\n",
       "<!-- 4657263504 -->\n",
       "<g class=\"node\" id=\"node15\"><title>4657263504</title>\n",
       "<polygon fill=\"none\" points=\"55.9966,-73.5 55.9966,-109.5 160.249,-109.5 160.249,-73.5 55.9966,-73.5\" stroke=\"black\"/>\n",
       "<text font-family=\"Times,serif\" font-size=\"14.00\" text-anchor=\"middle\" x=\"108.123\" y=\"-87.3\">dense_2: Dense</text>\n",
       "</g>\n",
       "<!-- 4657461648&#45;&gt;4657263504 -->\n",
       "<g class=\"edge\" id=\"edge14\"><title>4657461648-&gt;4657263504</title>\n",
       "<path d=\"M108.123,-146.313C108.123,-138.289 108.123,-128.547 108.123,-119.569\" fill=\"none\" stroke=\"black\"/>\n",
       "<polygon fill=\"black\" points=\"111.623,-119.529 108.123,-109.529 104.623,-119.529 111.623,-119.529\" stroke=\"black\"/>\n",
       "</g>\n",
       "<!-- 4657209296 -->\n",
       "<g class=\"node\" id=\"node16\"><title>4657209296</title>\n",
       "<polygon fill=\"none\" points=\"32.6621,-0.5 32.6621,-36.5 183.583,-36.5 183.583,-0.5 32.6621,-0.5\" stroke=\"black\"/>\n",
       "<text font-family=\"Times,serif\" font-size=\"14.00\" text-anchor=\"middle\" x=\"108.123\" y=\"-14.3\">activation_5: Activation</text>\n",
       "</g>\n",
       "<!-- 4657263504&#45;&gt;4657209296 -->\n",
       "<g class=\"edge\" id=\"edge15\"><title>4657263504-&gt;4657209296</title>\n",
       "<path d=\"M108.123,-73.3129C108.123,-65.2895 108.123,-55.5475 108.123,-46.5691\" fill=\"none\" stroke=\"black\"/>\n",
       "<polygon fill=\"black\" points=\"111.623,-46.5288 108.123,-36.5288 104.623,-46.5289 111.623,-46.5288\" stroke=\"black\"/>\n",
       "</g>\n",
       "</g>\n",
       "</svg>"
      ],
      "text/plain": [
       "<IPython.core.display.SVG object>"
      ]
     },
     "execution_count": 3,
     "metadata": {},
     "output_type": "execute_result"
    }
   ],
   "source": [
    "#This CellDefines the structure of the model\n",
    "#Define Model Type followed by layers\n",
    "model = Sequential()\n",
    "model.add(Convolution2D(32,3,3,input_shape = (img_width,img_height,3)))\n",
    "model.add(Activation('relu'))\n",
    "model.add(MaxPooling2D(pool_size=(2,2)))\n",
    "\n",
    "model.add(Convolution2D(32,3,3,input_shape = (img_width,img_height,3)))\n",
    "model.add(Activation('relu'))\n",
    "model.add(MaxPooling2D(pool_size=(2,2)))\n",
    "\n",
    "model.add(Convolution2D(64,3,3,input_shape = (img_width,img_height,3)))\n",
    "model.add(Activation('relu'))\n",
    "model.add(MaxPooling2D(pool_size=(2,2)))\n",
    "\n",
    "model.add(Flatten())\n",
    "model.add(Dense(64))\n",
    "model.add(Activation('relu'))\n",
    "\n",
    "model.add(Dropout(0.5))\n",
    "model.add(Dense(1))\n",
    "model.add(Activation('sigmoid'))\n",
    "\n",
    "SVG(model_to_dot(model).create(prog='dot',format='svg'))"
   ]
  },
  {
   "cell_type": "code",
   "execution_count": 4,
   "metadata": {
    "collapsed": true
   },
   "outputs": [],
   "source": [
    "#compiles the model\n",
    "model.compile(loss='binary_crossentropy',\n",
    "             optimizer='rmsprop',\n",
    "             metrics=['accuracy'])"
   ]
  },
  {
   "cell_type": "code",
   "execution_count": 5,
   "metadata": {
    "collapsed": true
   },
   "outputs": [],
   "source": [
    "nb_validation_samples = 24"
   ]
  },
  {
   "cell_type": "code",
   "execution_count": 6,
   "metadata": {
    "collapsed": false
   },
   "outputs": [],
   "source": [
    "#Loads a pre-learned Model\n",
    "model.load_weights('models/basic_cnn_15epochs_acc_1.h5')"
   ]
  },
  {
   "cell_type": "code",
   "execution_count": 7,
   "metadata": {
    "collapsed": false
   },
   "outputs": [
    {
     "data": {
      "text/plain": [
       "[0.65644508600234985, 0.70833331346511841]"
      ]
     },
     "execution_count": 7,
     "metadata": {},
     "output_type": "execute_result"
    }
   ],
   "source": [
    "model.evaluate_generator(validation_generator, nb_validation_samples)"
   ]
  }
 ],
 "metadata": {
  "kernelspec": {
   "display_name": "Python 2",
   "language": "python",
   "name": "python2"
  },
  "language_info": {
   "codemirror_mode": {
    "name": "ipython",
    "version": 2
   },
   "file_extension": ".py",
   "mimetype": "text/x-python",
   "name": "python",
   "nbconvert_exporter": "python",
   "pygments_lexer": "ipython2",
   "version": "2.7.13"
  }
 },
 "nbformat": 4,
 "nbformat_minor": 2
}
